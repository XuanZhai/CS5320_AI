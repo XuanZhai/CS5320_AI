{
 "cells": [
  {
   "cell_type": "markdown",
   "metadata": {},
   "source": [
    "# Intelligent Agents: Vacuum-cleaner World\n",
    "\n",
    "Implement a simulator environment for a vacuum-cleaner world and a set of intelligent agents.\n",
    "\n",
    "## PEAS description\n",
    "\n",
    "__Performance Measure:__ Each action costs 1. The performance is measured as the sum of the cost to clean the whole environment.\n",
    "\n",
    "__Environment:__ A room with $n \\times n$ squares where $n = 5$. Dirt is randomly placed on each square with probability $p = 0.2$. For simplicity, you can assume that the agent knows the size of the layout of the room (i.e., it knows n and where it starts).\n",
    "\n",
    "__Actuators:__ The agent can `clean` the current square or move to an adjacent square by going `north`, `east`, `west`, or `south`.\n",
    "\n",
    "__Sensors:__ Four bumper sensors, one for north`, `east`, `west`, and `south`; a dirt sensor reporting dirt in the current square.  \n",
    "\n",
    "The easiest implementation for the environment is to hold an 2-dimensional array to represent if squares are clean or dirty and to call the agent function in a loop untill all squares are clean or a predefined number of steps have been reached.\n",
    "\n",
    "## Define the agent program for a simple randomized agent\n",
    "\n",
    "The agent program is a function that gets sensor information (the current percepts) as the arguments. The arguments are:\n",
    "\n",
    "* A dictonary with boolean entries for the for bumper sensors `north`, `east`, `west`, `south`; not specified bumpers are assumed to be `False`. E.g., if the agent is on the north-west corner, `bumpers` gets `{\"north\" : True, \"west\" : True}` or if the agent is not close to a border then it gets `{}`.\n",
    "* The dirt sensor produces a boolean.\n",
    "\n",
    "The agent returns the chosen action as a string.\n",
    "\n",
    "Here is an example implementation for the agent program of a simple randomized agent:  "
   ]
  },
  {
   "cell_type": "code",
   "execution_count": 39,
   "metadata": {},
   "outputs": [],
   "source": [
    "from numpy import random\n",
    "\n",
    "actions = [\"north\", \"east\", \"west\", \"south\", \"suck\"]\n",
    "\n",
    "\n",
    "def simple_randomized_agent(bumpers, dirty):\n",
    "    return random.choice(actions)"
   ]
  },
  {
   "cell_type": "code",
   "execution_count": 40,
   "metadata": {},
   "outputs": [
    {
     "data": {
      "text/plain": [
       "'south'"
      ]
     },
     "execution_count": 40,
     "metadata": {},
     "output_type": "execute_result"
    }
   ],
   "source": [
    "simple_randomized_agent({\"north\" : True}, True)"
   ]
  },
  {
   "cell_type": "markdown",
   "metadata": {},
   "source": [
    "## Simple environment example\n",
    "\n",
    "The environment is infinite in size (bumpers are always `False`) and every square is dirty. We run the agent for 10 times steps."
   ]
  },
  {
   "cell_type": "code",
   "execution_count": 41,
   "metadata": {},
   "outputs": [
    {
     "name": "stdout",
     "output_type": "stream",
     "text": [
      "south\n",
      "east\n",
      "suck\n",
      "south\n",
      "south\n",
      "west\n",
      "north\n",
      "north\n",
      "north\n",
      "east\n"
     ]
    }
   ],
   "source": [
    "for i in range(10):\n",
    "    print(simple_randomized_agent({\"north\" : False, \"south\" : False, \"west\" : False, \"east\" : False}, True))"
   ]
  },
  {
   "cell_type": "markdown",
   "metadata": {},
   "source": [
    "# Tasks\n",
    "\n",
    "_Submission Instructions:_ Use this notebook to prepare your submission. Complete this section with your code and results. You can use Markdown blocks for your description, comments in the code and use mathplotlib to produce charts. If you use external code files then you can include them with \n",
    "\n",
    "```\n",
    "from notebook import psource\n",
    "psource(\"your_file.py\")\n",
    "```\n",
    "\n",
    "_Note:_ Try to keep the code simple! In this couse, we want to learn about the algorithms and we often do not need to use object-oriented design. \n",
    "\n",
    "\n",
    "## Task 1: Implement a simulation environment\n",
    "\n",
    "Your environment simulator needs to create squares, make some dirty, and proivde the agent function with the sensor inputs. The environment needs to evaluate the performance measure. It needs to track the agent's actions until all dirty squares are clean and count the number of actions it takes the agent to complete the task.\n",
    "\n",
    "The simulation environment needs to work with the simple randomized agent program from above."
   ]
  },
  {
   "cell_type": "markdown",
   "metadata": {},
   "source": [
    "Here the agent will clean the room randomly. It is started in a random position on the map, and it will randomly choose an action from the five choices. If it hits the will, it will get stuck and do nothing until the next round. From the data, we can find out that the simple-randomized agent takes a lot of steps(cost) to clean the room, and the results from the tests are various. Therefore, it's maybe not well rational."
   ]
  },
  {
   "cell_type": "code",
   "execution_count": 42,
   "metadata": {},
   "outputs": [],
   "source": [
    "import random\n",
    "import numpy as np \n",
    "import copy\n",
    "\n",
    "actions_simple_randomized = [\"north\", \"east\", \"west\", \"south\", \"suck\"]          # Types of action for task 1\n",
    "\n",
    "def checkClear(Matrix):                  # Check is there any dirty point left\n",
    "    for i in Matrix:\n",
    "        for j in i:\n",
    "            if(j != False):\n",
    "                return False\n",
    "    return True\n",
    "\n",
    "                \n",
    "def Analysis_Bumper(row, column, lengthoftable):       # Return the bumpers that indicate walls\n",
    "    newbound = {}\n",
    "    if(row == 0):\n",
    "        newbound[\"north\"] = \"True\"\n",
    "    if(row == lengthoftable - 1):\n",
    "        newbound[\"south\"] = \"True\"\n",
    "    if(column == 0):\n",
    "        newbound[\"west\"] = \"True\"\n",
    "    if(column == lengthoftable - 1):\n",
    "        newbound[\"east\"] = \"True\"\n",
    "    return newbound\n",
    "\n",
    "\n",
    "def simple_randomized_agent(lengthoftable, maxstep,p, printed):\n",
    "    Matrix = np.random.choice(a=[False,True], size=(lengthoftable,lengthoftable), p = [p, 1-p])  # Create the environment\n",
    "    CurrentRow = random.randint(0,lengthoftable - 1)           # Randomly set start point\n",
    "    CurrentColumn = random.randint(0,lengthoftable - 1)\n",
    "    \n",
    "    if(printed == True) : print(\"Room:\\n\", Matrix) \n",
    "    \n",
    "    for i in range(maxstep):\n",
    "        Ndirty = np.sum(Matrix)             # The number of dirty points \n",
    "        newBound = Analysis_Bumper(CurrentRow, CurrentColumn, lengthoftable)    # Analyze bounds\n",
    "        \n",
    "        if(printed == True) :\n",
    "            print(\"===========================\")\n",
    "            print(\"Step: \", i)\n",
    "            print(\"Dirty parts left: \", Ndirty)\n",
    "            print(\"Current Position: [\", CurrentRow, \",\" , CurrentColumn , \"]\")\n",
    "            print(\"Bumper: \", newBound)\n",
    "            print(\"Dirty: \", Matrix[CurrentRow, CurrentColumn])\n",
    "            \n",
    "        Newaction = random.choice(actions_simple_randomized)             # The simple_randomized_agent will choose the action randomly\n",
    "        \n",
    "        if(printed == True) : print(\"Action: \", Newaction)          # Processing Actions \n",
    "        if(Newaction == \"north\" and CurrentRow != 0) : CurrentRow = CurrentRow - 1 \n",
    "        if(Newaction == \"south\" and CurrentRow != lengthoftable - 1) : CurrentRow = CurrentRow + 1\n",
    "        if(Newaction == \"east\" and CurrentColumn != lengthoftable - 1) : CurrentColumn = CurrentColumn + 1\n",
    "        if(Newaction == \"west\" and CurrentColumn != 0) : CurrentColumn = CurrentColumn - 1\n",
    "        if(Newaction == \"suck\") :  Matrix[CurrentRow, CurrentColumn] = False\n",
    "        \n",
    "        if(checkClear(Matrix)) :\n",
    "            if(printed == True):\n",
    "                print(\"All the dirty points have been cleared\")\n",
    "            return i\n",
    "        if(i == maxstep - 1) :\n",
    "            if(printed == True):\n",
    "                print(\"Reach the max number of steps\")\n",
    "            return i\n"
   ]
  },
  {
   "cell_type": "code",
   "execution_count": 43,
   "metadata": {},
   "outputs": [
    {
     "name": "stdout",
     "output_type": "stream",
     "text": [
      "702.639\n"
     ]
    },
    {
     "data": {
      "image/png": "[encoded data removed]",
      "text/plain": [
       "<Figure size 432x288 with 1 Axes>"
      ]
     },
     "metadata": {
      "needs_background": "light"
     },
     "output_type": "display_data"
    }
   ],
   "source": [
    "N = 1000\n",
    "\n",
    "Steps = np.repeat(0, N)\n",
    "for i in range(N):\n",
    "    Steps[i] =  simple_randomized_agent(5,20000,0.2,False)\n",
    "    \n",
    "print(np.mean(Steps))\n",
    "\n",
    "import matplotlib.pyplot as plt\n",
    "plt.hist(Steps, bins = 10)\n",
    "plt.xlabel(\"steps\")\n",
    "plt.ylabel(\"frequency\")\n",
    "plt.show()"
   ]
  },
  {
   "cell_type": "markdown",
   "metadata": {},
   "source": [
    "## Task 2:  Implement a simple reflex agent\n",
    "\n",
    "The simple reflex agent randomly walks around but reacts to the bumper sensor by not bumping into the wall and to dirt with sucking."
   ]
  },
  {
   "cell_type": "markdown",
   "metadata": {},
   "source": [
    "Here we keep the environment to be the same, but a simple reflex agent that will detect the wall and check the floor. If the floor is clean, it will not do suck. Also, if it reaches the top-right, it will not do west or north. From the result, we can find out that using a more intelligent agent will reduce the cost, which is a good sign in Performance Measure. "
   ]
  },
  {
   "cell_type": "code",
   "execution_count": 44,
   "metadata": {},
   "outputs": [],
   "source": [
    "actions_simple_reflex = [\"north\", \"east\", \"west\", \"south\"]             # Types of action for task 2\n",
    "\n",
    "def simple_reflex_agent(lengthoftable, maxstep,p,printed):\n",
    "    Matrix = np.random.choice(a=[False,True], size=(lengthoftable,lengthoftable), p = [p, 1-p])\n",
    "    CurrentRow = random.randint(0,lengthoftable - 1)\n",
    "    CurrentColumn = random.randint(0,lengthoftable - 1)\n",
    "    \n",
    "    if(printed == True) : print(\"Room:\\n\", Matrix)\n",
    "    \n",
    "    for i in range(maxstep):\n",
    "        Ndirty = np.sum(Matrix)\n",
    "        newBound = Analysis_Bumper(CurrentRow, CurrentColumn, lengthoftable)\n",
    "        \n",
    "        if(printed == True) :\n",
    "            print(\"===========================\")\n",
    "            print(\"Step: \", i)\n",
    "            print(\"Dirty parts left: \", Ndirty)\n",
    "            print(\"Current Position: [\", CurrentRow, \",\" , CurrentColumn , \"]\")\n",
    "            print(\"Bumper: \", newBound)\n",
    "            print(\"Dirty: \", Matrix[CurrentRow, CurrentColumn])\n",
    "            \n",
    "        NewChoice = copy.deepcopy(actions_simple_reflex)        # Use Deep Copy to create a list of action choices so that I can do remove\n",
    "        \n",
    "        for j in newBound:\n",
    "            NewChoice.remove(j)                                 # Remove the impossible actions\n",
    "            \n",
    "        if(Matrix[CurrentRow, CurrentColumn] == True):      # If the current place is dirty, the only action will be suck\n",
    "            Matrix[CurrentRow, CurrentColumn] = False\n",
    "            if(printed == True):\n",
    "                print(\"Action: suck\")\n",
    "        else:\n",
    "            Newaction = random.choice(NewChoice)\n",
    "            if(printed == True) :\n",
    "                print(\"Action: \", Newaction)\n",
    "            if(Newaction == \"north\") : CurrentRow = CurrentRow - 1 \n",
    "            if(Newaction == \"south\") : CurrentRow = CurrentRow + 1\n",
    "            if(Newaction == \"east\") : CurrentColumn = CurrentColumn + 1\n",
    "            if(Newaction == \"west\") : CurrentColumn = CurrentColumn - 1\n",
    "        \n",
    "        if(checkClear(Matrix)) :\n",
    "            if(printed == True):\n",
    "                print(\"All the dirty points have been cleared\")\n",
    "            return i\n",
    "        if(i == maxstep - 1) :\n",
    "            if(printed == True):\n",
    "                print(\"Reach the max number of steps\")\n",
    "            return i "
   ]
  },
  {
   "cell_type": "code",
   "execution_count": 45,
   "metadata": {},
   "outputs": [
    {
     "name": "stdout",
     "output_type": "stream",
     "text": [
      "183.508\n"
     ]
    },
    {
     "data": {
      "image/png": "[encoded data removed]",
      "text/plain": [
       "<Figure size 432x288 with 1 Axes>"
      ]
     },
     "metadata": {
      "needs_background": "light"
     },
     "output_type": "display_data"
    }
   ],
   "source": [
    "N = 1000\n",
    "\n",
    "Steps = np.repeat(0, N)\n",
    "for i in range(N):\n",
    "    Steps[i] =  simple_reflex_agent(5,20000,0.2,False)\n",
    "    \n",
    "print(np.mean(Steps))\n",
    "\n",
    "import matplotlib.pyplot as plt\n",
    "plt.hist(Steps, bins = 10)\n",
    "plt.xlabel(\"steps\")\n",
    "plt.ylabel(\"frequency\")\n",
    "plt.show()"
   ]
  },
  {
   "cell_type": "markdown",
   "metadata": {},
   "source": [
    "## Task 3: Implement a model-based reflex agent \n",
    "\n",
    "This agent keeps track of the location and remembers where it has cleaned. Assume the agent knows how many squares the room has and where it starts. It can now use more advanced navigation.\n",
    "\n",
    "How will your agent perform if it is put into a larger room, if the room contains obstacles, or it starts in a random square?"
   ]
  },
  {
   "cell_type": "markdown",
   "metadata": {},
   "source": [
    "For the model-based reflex agent, it will firstly go to the top-left (because we set the start position randomly), and then it will go over the environment in a \"s path.\" Since it won't go where it's already cleaned, it will has shorter cost than the previous agents. The random numbers in the result is because of the random start position, so if we keep it at top-left, the result may be more constant. However, the problem for this agent is that it cannot deal with obstacles; it can only clean a perfectly-square environment."
   ]
  },
  {
   "cell_type": "code",
   "execution_count": 46,
   "metadata": {},
   "outputs": [],
   "source": [
    "def model_reflex_agent(lengthoftable,p,printed):\n",
    "    step = 0\n",
    "    Matrix = np.random.choice(a=[False,True], size=(lengthoftable,lengthoftable), p = [p, 1-p])\n",
    "    CurrentRow = random.randint(0,lengthoftable - 1)\n",
    "    CurrentColumn = random.randint(0,lengthoftable - 1)\n",
    "    \n",
    "    if(printed == True) : print(\"Room:\\n\", Matrix, \"\\nStarts at: [\" ,CurrentRow, \",\" ,CurrentColumn , \"]\" )\n",
    "    \n",
    "    while(CurrentRow != 0):             # Since the start location is random, the agent will firstly go to the top-left\n",
    "        CurrentRow = CurrentRow - 1\n",
    "        step = step + 1                 \n",
    "    while(CurrentColumn != 0):\n",
    "        CurrentColumn = CurrentColumn - 1\n",
    "        step = step + 1\n",
    "    if(printed == True):\n",
    "        print(\"Steps to return to the top-left point\", step)\n",
    "    \n",
    "    \n",
    "    for i in range(lengthoftable):                  # The idea is cleaning the room with a s shape path\n",
    "        if(CurrentColumn == 0):\n",
    "            while(CurrentColumn < lengthoftable - 1):\n",
    "                if(Matrix[i][CurrentColumn] == True):           # If the current position is dirty\n",
    "                    step = step + 1\n",
    "                    if(printed == True):\n",
    "                        print(\"===========================\")\n",
    "                        print(\"Step: \", step)\n",
    "                        print(\"Dirty parts left: \", np.sum(Matrix))\n",
    "                        print(\"Current Position: [\", CurrentRow, \",\" , CurrentColumn , \"]\")\n",
    "                        print(\"Dirty: \", Matrix[CurrentRow, CurrentColumn])\n",
    "                        print(\"Action: suck\")                     \n",
    "                    Matrix[i][CurrentColumn] = False\n",
    "                else:\n",
    "                    step = step + 1                     # If it's clean, go to the east\n",
    "                    if(printed == True):\n",
    "                        print(\"===========================\")\n",
    "                        print(\"Step: \", step)\n",
    "                        print(\"Dirty parts left: \", np.sum(Matrix))\n",
    "                        print(\"Current Position: [\", CurrentRow, \",\" , CurrentColumn , \"]\")\n",
    "                        print(\"Dirty: \", Matrix[CurrentRow, CurrentColumn])\n",
    "                        print(\"Action: east\")  \n",
    "                    CurrentColumn = CurrentColumn + 1\n",
    "            if(Matrix[i][CurrentColumn] == True):                  # Clean the last one in the column\n",
    "                step = step + 1\n",
    "                if(printed == True):\n",
    "                    print(\"===========================\")\n",
    "                    print(\"Step: \", step)\n",
    "                    print(\"Dirty parts left: \", np.sum(Matrix))\n",
    "                    print(\"Current Position: [\", CurrentRow, \",\" , CurrentColumn , \"]\")\n",
    "                    print(\"Dirty: \", Matrix[CurrentRow, CurrentColumn])\n",
    "                    print(\"Action: suck\")        \n",
    "                Matrix[i][CurrentColumn] = False\n",
    "        else:                                           # If the column is started from the east to west\n",
    "            while(CurrentColumn > 0):\n",
    "                if(Matrix[i][CurrentColumn] == True):\n",
    "                    step = step + 1\n",
    "                    if(printed == True):\n",
    "                        print(\"===========================\")\n",
    "                        print(\"Step: \", step)\n",
    "                        print(\"Dirty parts left: \", np.sum(Matrix))\n",
    "                        print(\"Current Position: [\", CurrentRow, \",\" , CurrentColumn , \"]\")\n",
    "                        print(\"Dirty: \", Matrix[CurrentRow, CurrentColumn])\n",
    "                        print(\"Action: suck\")        \n",
    "                    Matrix[i][CurrentColumn] = False\n",
    "                else:\n",
    "                    step = step + 1\n",
    "                    if(printed == True):\n",
    "                        print(\"===========================\")\n",
    "                        print(\"Step: \", step)\n",
    "                        print(\"Dirty parts left: \", np.sum(Matrix))\n",
    "                        print(\"Current Position: [\", CurrentRow, \",\" , CurrentColumn , \"]\")\n",
    "                        print(\"Dirty: \", Matrix[CurrentRow, CurrentColumn])\n",
    "                        print(\"Action: west\") \n",
    "                    CurrentColumn = CurrentColumn - 1\n",
    "            if(Matrix[i][CurrentColumn] == True):\n",
    "                step = step + 1\n",
    "                if(printed == True):\n",
    "                    print(\"===========================\")\n",
    "                    print(\"Step: \", step)\n",
    "                    print(\"Dirty parts left: \", np.sum(Matrix))\n",
    "                    print(\"Current Position: [\", CurrentRow, \",\" , CurrentColumn , \"]\")\n",
    "                    print(\"Dirty: \", Matrix[CurrentRow, CurrentColumn])\n",
    "                    print(\"Action: suck\")        \n",
    "                Matrix[i][CurrentColumn] = False\n",
    "        if(printed == True and CurrentRow != lengthoftable - 1):            #If one column is finished, go down the the next one\n",
    "            print(\"===========================\")\n",
    "            print(\"Step: \", step)\n",
    "            print(\"Dirty parts left: \", np.sum(Matrix))\n",
    "            print(\"Current Position: [\", CurrentRow, \",\" , CurrentColumn , \"]\")\n",
    "            print(\"Dirty: \", Matrix[CurrentRow, CurrentColumn])\n",
    "            print(\"Action: south\")  \n",
    "        CurrentRow = CurrentRow + 1\n",
    "        step = step + 1\n",
    "    return step - 1                                     # The final step will leads to out of bound, so we don't need that step"
   ]
  },
  {
   "cell_type": "code",
   "execution_count": 47,
   "metadata": {},
   "outputs": [
    {
     "name": "stdout",
     "output_type": "stream",
     "text": [
      "48.072\n"
     ]
    },
    {
     "data": {
      "image/png": "[encoded data removed]",
      "text/plain": [
       "<Figure size 432x288 with 1 Axes>"
      ]
     },
     "metadata": {
      "needs_background": "light"
     },
     "output_type": "display_data"
    }
   ],
   "source": [
    "N = 1000\n",
    "\n",
    "Steps = np.repeat(0, N)\n",
    "for i in range(N):\n",
    "    Steps[i] =  model_reflex_agent(5,0.2,False)\n",
    "    \n",
    "print(np.mean(Steps))\n",
    "\n",
    "import matplotlib.pyplot as plt\n",
    "plt.hist(Steps, bins = 10)\n",
    "plt.xlabel(\"steps\")\n",
    "plt.ylabel(\"frequency\")\n",
    "plt.show()"
   ]
  },
  {
   "cell_type": "markdown",
   "metadata": {},
   "source": [
    "## Task 4: Simulation study\n",
    "\n",
    "Compare the performance of the agents using different size environments. E.g., $5 \\times 5$, $10 \\times 10$ and\n",
    "$100 \\times 100$. Use at least 100 random runs for each."
   ]
  },
  {
   "cell_type": "markdown",
   "metadata": {},
   "source": [
    "From the comparison, we can find out that the randomized agents are useless in a large environment. They work fine in 5 by 5 and 10 by 10, but for 100 by 100, both of them hit the maximum steps requirement. Therefore, they may not be rational enough compared to the model-based agent. However, the simple agents' potential benefit is that they may eventually clean all the places, but for the model-based agent, it will be failed and get stuck if the environment is not optimal or has obstacles."
   ]
  },
  {
   "cell_type": "code",
   "execution_count": 48,
   "metadata": {
    "scrolled": false
   },
   "outputs": [
    {
     "name": "stdout",
     "output_type": "stream",
     "text": [
      "5 by 5 simple_randomized agent has average:  682.94\n",
      "10 by 10 simple_randomized agent has average:  4174.29\n",
      "100 by 100 simple_randomized agent has average:  19999.0\n",
      "5 by 5 simple_reflex_agent has average:  185.28\n",
      "10 by 10 simple_reflex_agent has average:  1352.13\n",
      "100 by 100 simple_reflex agent has average:  19999.0\n",
      "5 by 5 model_reflex agent has average:  48.035\n",
      "10 by 10 model_reflex agent has average:  187.93\n",
      "100 by 100 model_reflex agent has average:  18100.51\n"
     ]
    },
    {
     "data": {
      "image/png": "[encoded data removed]",
      "text/plain": [
       "<Figure size 432x288 with 1 Axes>"
      ]
     },
     "metadata": {
      "needs_background": "light"
     },
     "output_type": "display_data"
    },
    {
     "data": {
      "image/png": "[encoded data removed]",
      "text/plain": [
       "<Figure size 432x288 with 1 Axes>"
      ]
     },
     "metadata": {
      "needs_background": "light"
     },
     "output_type": "display_data"
    },
    {
     "data": {
      "image/png": "[encoded data removed]",
      "text/plain": [
       "<Figure size 432x288 with 1 Axes>"
      ]
     },
     "metadata": {
      "needs_background": "light"
     },
     "output_type": "display_data"
    },
    {
     "data": {
      "image/png": "[encoded data removed]",
      "text/plain": [
       "<Figure size 432x288 with 1 Axes>"
      ]
     },
     "metadata": {
      "needs_background": "light"
     },
     "output_type": "display_data"
    },
    {
     "data": {
      "image/png": "[encoded data removed]",
      "text/plain": [
       "<Figure size 432x288 with 1 Axes>"
      ]
     },
     "metadata": {
      "needs_background": "light"
     },
     "output_type": "display_data"
    },
    {
     "data": {
      "image/png": "[encoded data removed]",
      "text/plain": [
       "<Figure size 432x288 with 1 Axes>"
      ]
     },
     "metadata": {
      "needs_background": "light"
     },
     "output_type": "display_data"
    }
   ],
   "source": [
    "N = 200\n",
    "Steps11 = np.repeat(0, N)\n",
    "Steps12 = np.repeat(0, N)\n",
    "Steps13 = np.repeat(0, N)\n",
    "Steps21 = np.repeat(0, N)\n",
    "Steps22 = np.repeat(0, N)\n",
    "Steps23 = np.repeat(0, N)\n",
    "Steps31 = np.repeat(0, N)\n",
    "Steps32 = np.repeat(0, N)\n",
    "Steps33 = np.repeat(0, N)\n",
    "for i in range(N):\n",
    "    Steps11[i] =  simple_randomized_agent(5,20000,0.2,False)\n",
    "    Steps12[i] =  simple_randomized_agent(10,20000,0.2,False)\n",
    "    Steps13[i] =  simple_randomized_agent(100,20000,0.2,False)\n",
    "    Steps21[i] =  simple_reflex_agent(5,20000,0.2,False)\n",
    "    Steps22[i] =  simple_reflex_agent(10,20000,0.2,False)\n",
    "    Steps23[i] =  simple_reflex_agent(100,20000,0.2,False)\n",
    "    Steps31[i] =  model_reflex_agent(5,0.2,False)\n",
    "    Steps32[i] =  model_reflex_agent(10,0.2,False)\n",
    "    Steps33[i] =  model_reflex_agent(100,0.2,False)\n",
    "\n",
    "print(\"5 by 5 simple_randomized agent has average: \", np.mean(Steps11))\n",
    "print(\"10 by 10 simple_randomized agent has average: \", np.mean(Steps12))\n",
    "print(\"100 by 100 simple_randomized agent has average: \", np.mean(Steps13))\n",
    "print(\"5 by 5 simple_reflex_agent has average: \", np.mean(Steps21))\n",
    "print(\"10 by 10 simple_reflex_agent has average: \", np.mean(Steps22))\n",
    "print(\"100 by 100 simple_reflex agent has average: \", np.mean(Steps23))\n",
    "print(\"5 by 5 model_reflex agent has average: \", np.mean(Steps31))\n",
    "print(\"10 by 10 model_reflex agent has average: \", np.mean(Steps32))\n",
    "print(\"100 by 100 model_reflex agent has average: \", np.mean(Steps33))\n",
    "\n",
    "import matplotlib.pyplot as plt\n",
    "\n",
    "fig1 = plt.figure()\n",
    "ax = fig1.add_subplot(1,1,1)\n",
    "ax.hist(Steps11, bins=10, color='red', alpha=0.5)\n",
    "ax.hist(Steps21, bins=10, color='blue',alpha=0.5)\n",
    "ax.hist(Steps31, bins=10, color='green',alpha=0.5)\n",
    "plt.title(\"Three agents on 5 by 5 floor\")\n",
    "plt.xlabel(\"steps\")\n",
    "plt.ylabel(\"frequency\")\n",
    "\n",
    "fig2 = plt.figure()\n",
    "ax1 = fig2.add_subplot(1,1,1)\n",
    "ax1.hist(Steps12, bins=10, color='red', alpha=0.5)\n",
    "ax1.hist(Steps22, bins=10, color='blue',alpha=0.5)\n",
    "ax1.hist(Steps32, bins=10, color='green',alpha=0.5)\n",
    "plt.title(\"Three agents on 10 by 10 floor\")\n",
    "plt.xlabel(\"steps\")\n",
    "plt.ylabel(\"frequency\")\n",
    "\n",
    "fig3 = plt.figure()\n",
    "ax2 = fig3.add_subplot(1,1,1)\n",
    "ax2.hist(Steps13, bins=10, color='red', alpha=0.5)\n",
    "ax2.hist(Steps23, bins=10, color='blue',alpha=0.5)\n",
    "ax2.hist(Steps33, bins=10, color='green',alpha=0.5)\n",
    "plt.title(\"Three agents on 100 by 100 floor\")\n",
    "plt.xlabel(\"steps\")\n",
    "plt.ylabel(\"frequency\")\n",
    "\n",
    "fig4 = plt.figure()\n",
    "ax3 = fig4.add_subplot(1,1,1)\n",
    "ax3.hist(Steps11, bins=10, color='red', alpha=0.5)\n",
    "ax3.hist(Steps12, bins=10, color='blue',alpha=0.5)\n",
    "ax3.hist(Steps13, bins=10, color='green',alpha=0.5)\n",
    "plt.title(\"Simple_randomized agent on three floors\")\n",
    "plt.xlabel(\"steps\")\n",
    "plt.ylabel(\"frequency\")\n",
    "\n",
    "fig5 = plt.figure()\n",
    "ax4 = fig5.add_subplot(1,1,1)\n",
    "ax4.hist(Steps21, bins=10, color='red', alpha=0.5)\n",
    "ax4.hist(Steps22, bins=10, color='blue',alpha=0.5)\n",
    "ax4.hist(Steps23, bins=10, color='green',alpha=0.5)\n",
    "plt.title(\"Simple_reflex_agent on three floors\")\n",
    "plt.xlabel(\"steps\")\n",
    "plt.ylabel(\"frequency\")\n",
    "\n",
    "fig6 = plt.figure()\n",
    "ax5 = fig6.add_subplot(1,1,1)\n",
    "ax5.hist(Steps31, bins=10, color='red', alpha=0.5)\n",
    "ax5.hist(Steps32, bins=10, color='blue',alpha=0.5)\n",
    "ax5.hist(Steps33, bins=10, color='green',alpha=0.5)\n",
    "plt.title(\"Model_reflex agent on three floors\")\n",
    "plt.xlabel(\"steps\")\n",
    "plt.ylabel(\"frequency\")\n",
    "\n",
    "plt.show()\n",
    "\n"
   ]
  },
  {
   "cell_type": "markdown",
   "metadata": {},
   "source": [
    "## Bonus tasks\n",
    "\n",
    "* __Obstacles:__ Add random obstacle squares that also trigger the bumper sensor. The agent does not know where the obstacles are. How does this change the performance?\n",
    "* __Unknown environment with obstacles:__ The agent does not know how large the environment is, where it starts or where the obstacles are.\n",
    "* __Utility-based agent:__ Change the environment, so each square has a fixed probability of getting dirty again. Give this information to the agent (as a 2-dimensional array of probabilities). Cleaning one dirty square produces the utility of 1. Implement a utility-based agent that maximizes the expected utility over a time horizon of 10000 time steps. This is very tricky!"
   ]
  },
  {
   "cell_type": "markdown",
   "metadata": {},
   "source": [
    "For the problem of Obstacles, I use a modified DFS search to go through every place that the machine can go, can it will do suck if the floor is dirty. I set the start position to be 0,0 and manually create two obstacles because I'm worried about if the machine is rounded by obstacles or if there is a dirty place is rounded by obstacles. The agent will look at all the fresh places around and choose one to go. If there is no unvisited place around, it will retreat back. The problem for this agents is, it will keep searching even there is no dirty place and eventually go back to the start position, which may takes some costs.\n",
    "\n",
    "For the Unknown environment with obstacles: Although I didn't make a code for that, my idea is to use the same agent but let the agent identify obstacles as visited the place while it hit it.\n",
    "\n",
    "For the Utility-based agent, my idea is it depends on how observable the machine is. Since the first cleaned place may has a higher opportunity to be dirty again. Therefore, we can create a loop to let the agent follow the path again and again. "
   ]
  },
  {
   "cell_type": "code",
   "execution_count": 3,
   "metadata": {},
   "outputs": [],
   "source": [
    "import numpy as np \n",
    "\n",
    "def Check_remaining(Matrix):                                    # Count how many dirty points left\n",
    "    total = 0\n",
    "    for i in Matrix:\n",
    "        for j in i:\n",
    "            if(j == \"True\"):\n",
    "                total = total + 1\n",
    "    return total\n",
    "\n",
    "\n",
    "def Analyze_Neighbour(currentpair, Visited, lengthoftable, printed):\n",
    "    choice = []\n",
    "    if(currentpair[0] != 0):                                            # Check if the north is not a wall or an obstacle\n",
    "        if(Visited[currentpair[0] - 1][currentpair[1]] != 1):\n",
    "            choice.append((currentpair[0] - 1, currentpair[1]))\n",
    "            \n",
    "    if(currentpair[1] != 0):                                            # Check if the south is not a wall or an obstacle\n",
    "        if(Visited[currentpair[0]][currentpair[1] - 1] != 1):\n",
    "            choice.append((currentpair[0], currentpair[1] -1))\n",
    "            \n",
    "    if(currentpair[0] != lengthoftable - 1):                            # Check if the west is not a wall or an obstacle\n",
    "        if(Visited[currentpair[0] + 1][currentpair[1]] != 1):\n",
    "           choice.append((currentpair[0] + 1, currentpair[1]))  \n",
    "           \n",
    "    if(currentpair[1] != lengthoftable - 1):                           # Check if the east is not a wall or an obstacle\n",
    "        if(Visited[currentpair[0]][currentpair[1] + 1] != 1):\n",
    "            choice.append((currentpair[0], currentpair[1] + 1))\n",
    "    if(len(choice) == 0):\n",
    "        if(printed == True) : print(\"No Available place to go\")\n",
    "        return (-1,-1)                                                  # If it has no new place to go, return -1,-1\n",
    "    else:\n",
    "        if(printed == True) : print(\"Can go: \", choice, \"\\nAction: \", choice[0])\n",
    "        return choice[0]                                                # Else go to the first option\n",
    "\n",
    "\n",
    "def obstacle_agent(lengthoftable,p,printed):\n",
    "    step = 0\n",
    "    Matrix = np.random.choice(a=[\"False\",\"True\"], size=(lengthoftable,lengthoftable), p = [p, 1-p])\n",
    "    Matrix[1][2] = \"None\"                                       # Manually set the obstacles\n",
    "    Matrix[2][3] = \"None\"\n",
    "    \n",
    "    Visited = [[0 for x in range(5)] for y in range(5)]        # Create a table to store visited location\n",
    "    Visited[1][2] = 1                                          # Two obstacles is set to be visited \n",
    "    Visited[2][3] = 1\n",
    "    path = []                                                   # Create a vector to store the pass Like DFS \n",
    "    path.append((0,0))                                          # We always set the top-left as our start position\n",
    "    Visited[0][0] = 1\n",
    "    if(printed == True) : print(\"Room:\\n\", Matrix)\n",
    "    while(len(path) != 0):                                      # While it's not back to the top left\n",
    "        \n",
    "        oldpair = path[len(path) - 1]                           # Old pair is the current location\n",
    "        if(printed == True) : print(\"===========================\\nstep: \", step)\n",
    "        if(printed == True) : print(\"Current Position: \", oldpair)\n",
    "        \n",
    "        if(Matrix[oldpair[0]][oldpair[1]] == \"True\"):           # If the current location is dirty, clean it\n",
    "            Matrix[oldpair[0]][oldpair[1]] = \"False\"\n",
    "            step = step + 1\n",
    "            if(printed == True) : print(\"Action: suck\")\n",
    "        else:                                                   \n",
    "            newpair = Analyze_Neighbour(oldpair, Visited, lengthoftable, printed)\n",
    "        \n",
    "            if(newpair != (-1,-1)):                             # If there is an unvisited point nearby\n",
    "                Visited[newpair[0]][newpair[1]] = 1\n",
    "                path.append((newpair[0],newpair[1]))\n",
    "                step = step + 1\n",
    "            else:                                               # If all the place around are visited, go back to the last point\n",
    "                path.pop()\n",
    "                step = step + 1\n",
    "        if(printed == True) : print(\"Dirty parts left: \", Check_remaining(Matrix)) \n",
    "    return step"
   ]
  },
  {
   "cell_type": "code",
   "execution_count": 4,
   "metadata": {},
   "outputs": [
    {
     "name": "stdout",
     "output_type": "stream",
     "text": [
      "63.37\n"
     ]
    },
    {
     "data": {
      "image/png": "[encoded data removed]",
      "text/plain": [
       "<Figure size 432x288 with 1 Axes>"
      ]
     },
     "metadata": {
      "needs_background": "light"
     },
     "output_type": "display_data"
    }
   ],
   "source": [
    "N = 1000\n",
    "\n",
    "Steps = np.repeat(0, N)\n",
    "for i in range(N):\n",
    "    Steps[i] =   obstacle_agent(5,0.2,False)\n",
    "    \n",
    "print(np.mean(Steps))\n",
    "\n",
    "import matplotlib.pyplot as plt\n",
    "plt.hist(Steps, bins = 10)\n",
    "plt.xlabel(\"steps\")\n",
    "plt.ylabel(\"frequency\")\n",
    "plt.show()"
   ]
  }
 ],
 "metadata": {
  "kernelspec": {
   "display_name": "Python 3",
   "language": "python",
   "name": "python3"
  },
  "language_info": {
   "codemirror_mode": {
    "name": "ipython",
    "version": 3
   },
   "file_extension": ".py",
   "mimetype": "text/x-python",
   "name": "python",
   "nbconvert_exporter": "python",
   "pygments_lexer": "ipython3",
   "version": "3.8.5"
  }
 },
 "nbformat": 4,
 "nbformat_minor": 4
}
